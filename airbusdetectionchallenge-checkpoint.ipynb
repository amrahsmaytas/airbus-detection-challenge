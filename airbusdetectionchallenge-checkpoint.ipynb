{
 "cells": [
  {
   "cell_type": "code",
   "execution_count": null,
   "metadata": {},
   "outputs": [],
   "source": [
    "# This Python 3 environment comes with many helpful analytics libraries installed\n",
    "# It is defined by the kaggle/python docker image: https://github.com/kaggle/docker-python\n",
    "# For example, here's several helpful packages to load in \n",
    "\n",
    "import numpy as np # linear algebra\n",
    "import pandas as pd # data processing, CSV file I/O (e.g. pd.read_csv)\n",
    "\n",
    "# Input data files are available in the \"../input/\" directory.\n",
    "# For example, running this (by clicking run or pressing Shift+Enter) will list the files in the input directory\n",
    "import matplotlib.pyplot as  plt\n",
    "import warnings\n",
    "warnings.filterwarnings(\"ignore\")\n",
    "import PIL # We will import the packages at \"use-time (just for this kernel)\n",
    "from PIL import Image\n",
    "import os\n",
    "print(os.listdir(\"../input\"))\n",
    "\n",
    "# Any results you write to the current directory are saved as output."
   ]
  },
  {
   "cell_type": "code",
   "execution_count": null,
   "metadata": {},
   "outputs": [],
   "source": [
    "sample_submission_v2= pd.read_csv('../input/sample_submission_v2.csv')\n",
    "train = pd.read_csv('../input/train_ship_segmentations_v2.csv')\n"
   ]
  },
  {
   "cell_type": "code",
   "execution_count": null,
   "metadata": {},
   "outputs": [],
   "source": [
    "img = PIL.Image.open(\"../input/train_v2/3910bac5a.jpg\").resize((200,200))\n",
    "\n",
    "rgb_pixels = np.array(img)\n",
    "rgb_pixels.shape\n"
   ]
  },
  {
   "cell_type": "code",
   "execution_count": null,
   "metadata": {},
   "outputs": [],
   "source": [
    "# Red saturation of the top-left most 2x2 square pixels\n",
    "rgb_pixels[0:2, 0:2, 0]"
   ]
  },
  {
   "cell_type": "code",
   "execution_count": null,
   "metadata": {},
   "outputs": [],
   "source": [
    "plt.imshow(rgb_pixels);"
   ]
  },
  {
   "cell_type": "code",
   "execution_count": null,
   "metadata": {},
   "outputs": [],
   "source": [
    "# Note that imshow can plot a 1-channel image on monochrome\n",
    "plt.imshow(rgb_pixels[:, :, 1], cmap='Greys')"
   ]
  },
  {
   "cell_type": "code",
   "execution_count": null,
   "metadata": {},
   "outputs": [],
   "source": [
    "# and also\n",
    "\n",
    "plt.imshow(np.random.random(size=(10, 10)));"
   ]
  },
  {
   "cell_type": "code",
   "execution_count": null,
   "metadata": {},
   "outputs": [],
   "source": [
    "df = pd.read_csv(\"../input/train_ship_segmentations_v2.csv\", index_col=0).dropna()\n",
    "display(df.head())\n",
    "df['EncodedPixels']['000155de5.jpg']"
   ]
  },
  {
   "cell_type": "code",
   "execution_count": null,
   "metadata": {},
   "outputs": [],
   "source": [
    "# turn rle example into a list of ints\n",
    "rle = [int(i) for i in df['EncodedPixels']['000155de5.jpg'].split()]\n",
    "# turn list of ints into a list of (`start`, `length`) `pairs`\n",
    "pairs = list(zip(rle[0:-1:2], rle[1::2])) \n",
    "pairs[:3]"
   ]
  },
  {
   "cell_type": "code",
   "execution_count": null,
   "metadata": {},
   "outputs": [],
   "source": [
    "start = pairs[0][0]\n",
    "print(f\"Original start position: {start}\")\n",
    "\n",
    "coordinate = (start % 768, start // 768)\n",
    "print(f\"Maps to this coordinate: {coordinate}\")\n",
    "\n",
    "back = 768 * coordinate[1] + coordinate[0]\n",
    "print(f\"And back: {back}\")"
   ]
  },
  {
   "cell_type": "code",
   "execution_count": null,
   "metadata": {},
   "outputs": [],
   "source": [
    "pixels = [(pixel_position % 768, pixel_position // 768) \n",
    "                            for start, length in pairs \n",
    "                            for pixel_position in range(start, start + length)]\n",
    "pixels[:3]\n"
   ]
  },
  {
   "cell_type": "code",
   "execution_count": null,
   "metadata": {},
   "outputs": [],
   "source": [
    "def rle_to_pixels(rle_code):\n",
    "    '''\n",
    "    Transforms a RLE code string into a list of pixels of a (768, 768) canvas\n",
    "    '''\n",
    "    rle_code = [int(i) for i in rle_code.split()]\n",
    "    pixels = [(pixel_position % 768, pixel_position // 768) \n",
    "                 for start, length in list(zip(rle_code[0:-1:2], rle_code[1::2])) \n",
    "                 for pixel_position in range(start, start + length)]\n",
    "    return pixels\n",
    "\n",
    "# First three pixels of this particular bounding box:\n",
    "rle_to_pixels(df['EncodedPixels']['000155de5.jpg'])[0:3]"
   ]
  },
  {
   "cell_type": "code",
   "execution_count": null,
   "metadata": {},
   "outputs": [],
   "source": [
    "# Create a matrix of shape (768, 768) full of zeros\n",
    "canvas = np.zeros((768, 768))\n",
    "\n",
    "# numpy arrays can't be indexed by a list of pairs [(x1, y1), (x2, y2)]\n",
    "# but it can be indexed with a tuple with ([x1, x2,..., xn], [y1, y2... yn])\n",
    "# tuple(zip(*)) does exactly this map.... \n",
    "# ref: https://stackoverflow.com/questions/28491230/indexing-a-numpy-array-with-a-list-of-tuples\n",
    "canvas[tuple(zip(*pixels))] = 1\n",
    "\n",
    "plt.imshow(canvas);"
   ]
  },
  {
   "cell_type": "code",
   "execution_count": null,
   "metadata": {},
   "outputs": [],
   "source": [
    "canvas = np.zeros((768, 768))\n",
    "pixels = rle_to_pixels(np.random.choice(df['EncodedPixels']))\n",
    "canvas[tuple(zip(*pixels))] = 1\n",
    "plt.imshow(canvas);"
   ]
  },
  {
   "cell_type": "code",
   "execution_count": null,
   "metadata": {},
   "outputs": [],
   "source": [
    "# An image may have more than one row in the df, \n",
    "# Meaning that the image has more than one ship present\n",
    "# Here we merge those n-ships into the a continuos rle-code for the image....\n",
    "df = df.groupby(\"ImageId\")[['EncodedPixels']].agg(lambda rle_codes: ' '.join(rle_codes)).reset_index()\n",
    "\n",
    "load_img = lambda filename: np.array(PIL.Image.open(f\"../input/train_v2/{filename}\"))\n",
    "\n",
    "def apply_mask(image, mask):\n",
    "    for x, y in mask:\n",
    "        image[x, y, [0, 1]] = 255\n",
    "    return image\n",
    "\n",
    "img = load_img(df.loc[0, 'ImageId'])\n",
    "mask_pixels = rle_to_pixels(df.loc[0, 'EncodedPixels'])\n",
    "img = apply_mask(img, mask_pixels)\n",
    "plt.imshow(img);"
   ]
  },
  {
   "cell_type": "code",
   "execution_count": null,
   "metadata": {},
   "outputs": [],
   "source": [
    "w = 6\n",
    "h = 6\n",
    "\n",
    "_, axes_list = plt.subplots(h, w, figsize=(2*w, 2*h))\n",
    "\n",
    "for axes in axes_list:\n",
    "    for ax in axes:\n",
    "        ax.axis('off')\n",
    "        row_index = np.random.randint(len(df)) # take a random row from the df\n",
    "        ax.imshow(apply_mask(load_img(df.loc[row_index, 'ImageId']), rle_to_pixels(df.loc[row_index, 'EncodedPixels'])))\n",
    "        ax.set_title(df.loc[row_index, 'ImageId'])"
   ]
  },
  {
   "cell_type": "code",
   "execution_count": null,
   "metadata": {},
   "outputs": [],
   "source": [
    "import os\n",
    "import pandas as pd\n",
    "\n",
    "test_files = [f for f in os.listdir(\"../input/test_v2/\")]\n",
    "df = pd.read_csv(\"../input/train_ship_segmentations_v2.csv\")\n",
    "#df = df[df['ImageId'].isin(test_files)].drop_duplicates(subset=\"ImageId\")\n",
    "df.to_csv(\"submission.csv\", index=False)\n",
    "len(df)"
   ]
  },
  {
   "cell_type": "code",
   "execution_count": null,
   "metadata": {},
   "outputs": [],
   "source": [
    "#for submission\n",
    "!head submission.csv"
   ]
  },
  {
   "cell_type": "code",
   "execution_count": null,
   "metadata": {},
   "outputs": [],
   "source": []
  },
  {
   "cell_type": "code",
   "execution_count": null,
   "metadata": {},
   "outputs": [],
   "source": []
  }
 ],
 "metadata": {
  "kernelspec": {
   "display_name": "Python 3",
   "language": "python",
   "name": "python3"
  },
  "language_info": {
   "codemirror_mode": {
    "name": "ipython",
    "version": 3
   },
   "file_extension": ".py",
   "mimetype": "text/x-python",
   "name": "python",
   "nbconvert_exporter": "python",
   "pygments_lexer": "ipython3",
   "version": "3.6.5"
  }
 },
 "nbformat": 4,
 "nbformat_minor": 2
}
